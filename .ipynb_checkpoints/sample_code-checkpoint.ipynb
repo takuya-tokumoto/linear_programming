{
 "cells": [
  {
   "cell_type": "markdown",
   "metadata": {},
   "source": [
    "# 数理最適化問題とは"
   ]
  },
  {
   "cell_type": "markdown",
   "metadata": {},
   "source": [
    "- 数理最適化問題とは？  \n",
    "  ⇒与えられた評価尺度に関して最も良い解を求める問題  \n",
    "\n",
    "- 詳しくは？  \n",
    "「数理最適化 (Mathematical Optimization)」（または「数理計画法 (Mathematical Programing)」）は、変数に関する不等式や等式で表される制約の条件下で、目的の関数を最小 (あるいは最大) にする変数の値を求める問題。特に、制約条件と目的関数が線形方程式で表される問題を「線形計画法 (Liner Programming, LP)」（または「線形最適化」）という。  \n",
    "また、変数の値が連続的な実数ではなく、整数値しかとらない場合を「整数計画法 (integer programing)」という。中でも、変数の値が 0 と 1 しかとらない場合を「0-1 整数計画法 (0-1 integer programming)」という。  \n",
    "数理最適化は、問題を解くプログラム (最適化ソルバー) が商用非商用とわず開発されており、自分で書くのは大変なので、ソルバーを使って解くのが一般的。  \n",
    "Pythonの場合、モジュール PuLP を使うと、Python で変数や数式を記述することができる。PuLP は COIN-OR プロジェクトで開発されたモジュールであり、同じく COIN-OR プロジェクトで開発された CBC (COIN-OR Branch and Cut) というオープンソースのソルバーが同梱されているので、PuLP をインストールするだけで数理最適化の問題を解くことができる。  \n",
    "  \n",
    "- 数理最適化で扱う基本的な課題    \n",
    "線形計画問題（線形最適化問題）  \n",
    "ネットワーク最適化問題  \n",
    "非線形計画問題（非線形最適化問題）  \n",
    "組合せ最適化問題、整数計画問題  "
   ]
  },
  {
   "cell_type": "code",
   "execution_count": null,
   "metadata": {},
   "outputs": [],
   "source": []
  },
  {
   "cell_type": "code",
   "execution_count": 1,
   "metadata": {},
   "outputs": [],
   "source": [
    "# ! pip install pulp"
   ]
  },
  {
   "cell_type": "code",
   "execution_count": 2,
   "metadata": {},
   "outputs": [],
   "source": [
    "import pulp\n",
    "from itertools import product\n",
    "import numpy as np\n",
    "import pandas as pd\n",
    "import matplotlib.pyplot as plt"
   ]
  },
  {
   "cell_type": "code",
   "execution_count": null,
   "metadata": {},
   "outputs": [],
   "source": []
  },
  {
   "cell_type": "markdown",
   "metadata": {},
   "source": [
    "# 線形計画問題：生産計画問題"
   ]
  },
  {
   "cell_type": "markdown",
   "metadata": {},
   "source": [
    "ある工場では２つの製品Ｉ、II を作っている。これらの製品 1kg を作るのに必要となる原料、得られる利益（万円／kg）および原料の１日あたりの最大使用量(kg)は下表に示すとおりである。これらの条件をもとに、１日の利益を最大にする問題をＬＰで定式化せよ。\n",
    "\n",
    "\n",
    "|表：必要材料|製品I|製品Ⅱ|使用可能量|\n",
    "|:---:|:---:|:---:|:---:|\n",
    "|E|1kg|2kg|8kg|\n",
    "|F|3kg|0kg|12kg|\n",
    "|G|0kg|4kg|12kg|\n",
    "|利益|4万円/kg|6万円/kg||\n",
    "\n",
    "- 決定変数：製品 I、II の生産量をそれぞれ x kg、y kg とおく。  \n",
    "- 制約条件：\n",
    "\n",
    "$$\n",
    "\\begin{align*}\n",
    "& x + 2y ≦ 8 \\\\\n",
    "& 3x ≦ 12 \\\\\n",
    "& 4y ≦ 12 \\\\\n",
    "& x, y ≧ 0 \n",
    "\\end{align*}\n",
    "$$\n",
    " \n",
    "- 目的関数：\n",
    "4x + 6y ⇒ Max "
   ]
  },
  {
   "cell_type": "code",
   "execution_count": 3,
   "metadata": {},
   "outputs": [
    {
     "name": "stdout",
     "output_type": "stream",
     "text": [
      "Optimal\n",
      "Result\n",
      "製品Ⅰ 4.0kg\n",
      "製品Ⅱ 2.0kg\n",
      "最大利益 28.0万円/kg\n"
     ]
    }
   ],
   "source": [
    "#線形計画の定義\n",
    "problem = pulp.LpProblem('test1', pulp.LpMaximize)\n",
    "\n",
    "#変数の定義\n",
    "prd1 = pulp.LpVariable('prd1', 0, 1000, 'Continuous') \n",
    "prd2 = pulp.LpVariable('prd2', 0, 1000, 'Continuous') \n",
    "\n",
    "#目的関数の定義\n",
    "problem += 4*prd1 + 6*prd2\n",
    "\n",
    "#制約条件の定義\n",
    "problem += prd1 + 2*prd2 <= 8\n",
    "problem += 3*prd1 <= 12\n",
    "problem += 4*prd2 <= 12\n",
    "\n",
    "#解く\n",
    "status = problem.solve()\n",
    "# 最適解が得られたか確認\n",
    "print(pulp.LpStatus[status])\n",
    "\n",
    "#結果表示\n",
    "print(\"Result\")\n",
    "print(\"製品Ⅰ {}kg\".format(prd1.value()))\n",
    "print(\"製品Ⅱ {}kg\".format(prd2.value()))\n",
    "print(\"最大利益 {}万円/kg\".format(pulp.value(problem.objective)))"
   ]
  },
  {
   "cell_type": "code",
   "execution_count": null,
   "metadata": {},
   "outputs": [],
   "source": []
  },
  {
   "cell_type": "markdown",
   "metadata": {},
   "source": [
    "# 線形計画問題：輸送問題"
   ]
  },
  {
   "cell_type": "markdown",
   "metadata": {},
   "source": [
    "工場 (x, y) から商品を店 (a, b, c) に配送します。供給量、需要量、輸送コストが下表で与えられているとき、総輸送コストが最小となる配送の仕方を求めてください。\n",
    "\n",
    "|表 : 輸送コスト|店 a|店 b|店 c|供給量|\n",
    "|:-|:-|:-|:-|:-|\n",
    "|工場 x|10|6|16|8|\n",
    "|工場 y|8|8|4|16|\n",
    "|需要量|12|4|8||\n",
    "\n",
    "\n",
    "- 決定変数：  \n",
    "工場 x から店に配送する商品の量を変数 xa, xb, xc kg とし、工場 y から店に配送する商品の量を変数 ya, yb, yc kgとする。  \n",
    "\n",
    "- 制約条件：\n",
    "\n",
    "$$\n",
    "\\begin{align*}\n",
    "& xa + xb + xc = 8 (工場 x の供給量)\\\\  \n",
    "& ya + yb + yc = 16(工場 y の供給量)\\\\\n",
    "& xa + ya = 12(店 a の需要)\\\\\n",
    "& xb + yb = 4(店 b の需要)\\\\    \n",
    "& xc + yc = 8(店 c の需要)\\\\   \n",
    "& xa, xb, xc >= 0\\\\   \n",
    "& ya, yb, yc >= 0\\\\\n",
    "\\end{align*}\n",
    "$$\n",
    " \n",
    "- 目的関数：\n",
    "10xa + 6xb + 16xc + 8ya + 8yb + 4yc  ⇒ Min"
   ]
  },
  {
   "cell_type": "code",
   "execution_count": 4,
   "metadata": {},
   "outputs": [
    {
     "name": "stdout",
     "output_type": "stream",
     "text": [
      "sample3:\n",
      "MINIMIZE\n",
      "10*xa + 6*xb + 16*xc + 8*ya + 8*yb + 4*yc + 0\n",
      "SUBJECT TO\n",
      "_C1: xa + xb + xc = 8\n",
      "\n",
      "_C2: ya + yb + yc = 16\n",
      "\n",
      "_C3: xa + ya = 12\n",
      "\n",
      "_C4: xb + yb = 4\n",
      "\n",
      "_C5: xc + yc = 8\n",
      "\n",
      "VARIABLES\n",
      "xa Continuous\n",
      "xb Continuous\n",
      "xc Continuous\n",
      "ya Continuous\n",
      "yb Continuous\n",
      "yc Continuous\n",
      "\n",
      "Status Optimal\n",
      "Result\n",
      "xa 4.0\n",
      "xb 4.0\n",
      "xc 0.0\n",
      "ya 8.0\n",
      "yb 0.0\n",
      "yc 8.0\n",
      "z 160.0\n"
     ]
    }
   ],
   "source": [
    "prob = pulp.LpProblem('sample3')\n",
    "\n",
    "# 変数の定義\n",
    "xa = pulp.LpVariable('xa', lowBound = 0)\n",
    "xb = pulp.LpVariable('xb', lowBound = 0)\n",
    "xc = pulp.LpVariable('xc', lowBound = 0)\n",
    "ya = pulp.LpVariable('ya', lowBound = 0)\n",
    "yb = pulp.LpVariable('yb', lowBound = 0)\n",
    "yc = pulp.LpVariable('yc', lowBound = 0)\n",
    "\n",
    "# 目的関数\n",
    "prob += 10 * xa + 6 * xb + 16 * xc + 8 * ya + 8 * yb + 4 * yc \n",
    "\n",
    "# 制約条件\n",
    "prob += xa + xb + xc == 8\n",
    "prob += ya + yb + yc == 16\n",
    "prob += xa + ya == 12\n",
    "prob += xb + yb == 4\n",
    "prob += xc + yc == 8\n",
    "\n",
    "print(prob)\n",
    "\n",
    "# 実行\n",
    "status = prob.solve()\n",
    "print(\"Status\", pulp.LpStatus[status])\n",
    "\n",
    "# 結果の表示\n",
    "print(\"Result\")\n",
    "print(\"xa\", xa.value())\n",
    "print(\"xb\", xb.value())\n",
    "print(\"xc\", xc.value())\n",
    "print(\"ya\", ya.value())\n",
    "print(\"yb\", yb.value())\n",
    "print(\"yc\", yc.value())\n",
    "\n",
    "print(\"z\", prob.objective.value())"
   ]
  },
  {
   "cell_type": "code",
   "execution_count": null,
   "metadata": {},
   "outputs": [],
   "source": []
  },
  {
   "cell_type": "markdown",
   "metadata": {},
   "source": [
    "# ネットワーク最適化問題：最短路問題"
   ]
  },
  {
   "cell_type": "markdown",
   "metadata": {},
   "source": [
    "次は下図に示す経路で、A から G までの最短経路 (最小コストの経路) を求めてみましょう。  "
   ]
  },
  {
   "cell_type": "code",
   "execution_count": 5,
   "metadata": {},
   "outputs": [
    {
     "data": {
      "image/png": "[encoded data removed]",
      "text/plain": [
       "<PIL.PngImagePlugin.PngImageFile image mode=P size=1072x454 at 0x23A13189F98>"
      ]
     },
     "execution_count": 5,
     "metadata": {},
     "output_type": "execute_result"
    }
   ],
   "source": [
    "#coding:utf-8\n",
    "from PIL import Image\n",
    "import matplotlib.pyplot as plt\n",
    "import numpy as np\n",
    "\n",
    "#Jupyterでインライン表示するための宣言\n",
    "# %matplotlib inline #追加\n",
    "\n",
    "#画像の読み込み\n",
    "Image.open(\"./fig_root.png\")"
   ]
  },
  {
   "cell_type": "markdown",
   "metadata": {},
   "source": [
    "|表 : 輸送コスト|コスト|\n",
    "|:---:|:---:|\n",
    "|A - B|1|\n",
    "|A - C|6|\n",
    "|B - C|4|\n",
    "|B - D|2|\n",
    "|C - E|7|\n",
    "|D - E|5|\n",
    "|D - F|3|\n",
    "|E - G|8|\n",
    "\n",
    "\n",
    "\n",
    " \n",
    " - 決定変数：  \n",
    "工場 x から店に配送する商品の量を変数 xa, xb, xc kg とし、工場 y から店に配送する商品の量を変数 ya, yb, yc kgとする。  \n",
    "\n",
    "- 制約条件：\n",
    "\n",
    "\n",
    "1. Σ Xai = 1, 頂点 Aから出る辺は一つだけ\n",
    "2. Σ Xig = 1, 頂点 G に入る辺は一つだけ\n",
    "3. Σ Xij = Σ Xjk, 頂点 j に入る辺の数と j から出る辺の数は等しい (j != A, G)\n",
    "\n",
    "\n",
    "スタートとゴール以外の頂点の場合、辺がつながっていないときは入力が 0 で出力が 0 になります。辺がつながっているときは入力が 1 で出力が 1 になります。これを制約条件 3 で表しています。\n",
    "\n",
    "\n",
    "- 目的関数：\n",
    "Σ Σ Wij * Xij  ⇒ Min"
   ]
  },
  {
   "cell_type": "code",
   "execution_count": 6,
   "metadata": {},
   "outputs": [
    {
     "name": "stdout",
     "output_type": "stream",
     "text": [
      "Status Optimal\n",
      "A -> B\n",
      "B -> D\n",
      "D -> F\n",
      "z 6.0\n"
     ]
    }
   ],
   "source": [
    "#\n",
    "# 辺の重み\n",
    "#\n",
    "#      A  B  C  D  E  F  G\n",
    "ws = [[0, 1, 6, 0, 0, 0, 0],  # A\n",
    "      [1, 0, 4, 2, 0, 0, 0],  # B\n",
    "      [6, 4, 0, 0, 7, 0, 0],  # C\n",
    "      [0, 2, 0, 0, 5, 3, 0],  # D\n",
    "      [0, 0, 7, 5, 0, 0, 8],  # E\n",
    "      [0, 0, 0, 3, 0, 0, 0],  # F\n",
    "      [0, 0, 0, 0, 8, 0, 0],  # G\n",
    "]\n",
    "\n",
    "node = ['A', 'B', 'C', 'D', 'E', 'F', 'G']\n",
    "size  = len(node)   # 頂点の数\n",
    "start = 0           # スタート (A)\n",
    "goal  = 5           # ゴール (G)\n",
    "\n",
    "prob = pulp.LpProblem('keiro')\n",
    "\n",
    "# 変数の生成\n",
    "xs = []\n",
    "for i in range(size):\n",
    "    xs1 = [pulp.LpVariable('x_{}_{}'.format(i, j), cat='Binary') for j in range(size)]\n",
    "    xs.append(xs1)\n",
    "\n",
    "# 目的関数\n",
    "prob += pulp.lpSum([pulp.lpDot(w, x) for w, x in zip(ws, xs)])\n",
    "\n",
    "# 制約条件\n",
    "prob += pulp.lpSum(xs[start]) == 1\n",
    "prob += pulp.lpSum([xs[i][goal] for i in range(size)]) == 1\n",
    "for i in range(size):\n",
    "    if i == start or i == goal: continue\n",
    "    prob += pulp.lpSum([xs[j][i] for j in range(size)]) == pulp.lpSum([xs[i][j] for j in range(size)])\n",
    "\n",
    "# 重み 0 の辺は選択しない\n",
    "for i in range(size):\n",
    "    for j in range(size):\n",
    "        if ws[i][j] == 0: prob += xs[i][j] == 0\n",
    "\n",
    "# print(prob)\n",
    "\n",
    "status = prob.solve()\n",
    "print(\"Status\", pulp.LpStatus[status])\n",
    "for i in range(size):\n",
    "    for j in range(size):\n",
    "        if xs[i][j].value() == 1:\n",
    "            print('{} -> {}'.format(node[i], node[j]))\n",
    "print(\"z\", prob.objective.value())"
   ]
  },
  {
   "cell_type": "code",
   "execution_count": null,
   "metadata": {},
   "outputs": [],
   "source": []
  },
  {
   "cell_type": "markdown",
   "metadata": {},
   "source": [
    "## 整数計画問題：生産計画問題"
   ]
  },
  {
   "cell_type": "markdown",
   "metadata": {},
   "source": [
    "## 例題1"
   ]
  },
  {
   "cell_type": "markdown",
   "metadata": {},
   "source": [
    "チキンカレーと親子丼を作って売る。売り上げを最大にしよう！冷蔵庫の中には\n",
    "- 鶏肉50gのカタマリ：10個\n",
    "- 玉ねぎ50gのカタマリ:8個\n",
    "がある。(他の具材は考えなくていいくらいたくさんあるとしよう)  \n",
    "料理には\n",
    "\n",
    "|料理|肉のカタマリ|玉ねぎのカタマリ|\n",
    "|:-|:-|:-|\n",
    "|カレー|1個|2個|\n",
    "|親子丼|2個|1個|\n",
    "\n",
    "を使用する。  \n",
    "販売はチケット制で\n",
    "\n",
    "\n",
    "|チケット数|カレー|親子丼|\n",
    "|:-|:-|:-|\n",
    "|購入に必要なチケット|2枚/皿|3枚/皿|\n",
    "\n",
    "とする。総売り上げを最大にするには、何皿ずつ作っておけばよいだろうか？  \n",
    "\n",
    "x1x1 :カレーの数、x2x2：親子丼の数として、標準形で表してみよう。  \n",
    "\n",
    "\n",
    "- 制約条件\n",
    "\n",
    "$$\n",
    "\\begin{cases}\n",
    "    a_{11}x_1+\\cdots+a_{1n}x_n\\leq b_1\\\\\n",
    "    \\vdots\\\\\n",
    "    a_{m1}x_1+\\cdots+a_{mn}x_n\\leq b_m\\\\\n",
    "\\end{cases}\n",
    "$$\n",
    "\n",
    "$$\n",
    "x_i\\geq 0\\quad  (^\\forall i=1,2,\\dots,n)\\\\\n",
    "f = c_1x_1+\\cdots+c_nx_n\\\\\n",
    "$$"
   ]
  },
  {
   "cell_type": "code",
   "execution_count": 7,
   "metadata": {},
   "outputs": [
    {
     "name": "stdout",
     "output_type": "stream",
     "text": [
      "Optimal\n",
      "Result\n",
      "Curry: 2.0\n",
      "Oyako: 4.0\n"
     ]
    }
   ],
   "source": [
    "#線形計画の定義\n",
    "problem = pulp.LpProblem('Curry_Oyako', pulp.LpMaximize)\n",
    "\n",
    "#変数の定義\n",
    "Curry = pulp.LpVariable('Curry', 0, 10, 'Integer') \n",
    "Oyako = pulp.LpVariable('Oyako', 0, 10, 'Integer') \n",
    "\n",
    "#目的関数の定義\n",
    "problem += 2*Curry + 3*Oyako\n",
    "\n",
    "#制約条件の定義\n",
    "problem += Curry + 2*Oyako <= 10\n",
    "problem += 2*Curry + Oyako <= 8\n",
    "\n",
    "#解く\n",
    "status = problem.solve()\n",
    "print(pulp.LpStatus[status])\n",
    "\n",
    "#結果表示\n",
    "print(\"Result\")\n",
    "print(\"Curry:\",Curry.value())\n",
    "print(\"Oyako:\",Oyako.value())"
   ]
  },
  {
   "cell_type": "code",
   "execution_count": null,
   "metadata": {},
   "outputs": [],
   "source": []
  },
  {
   "cell_type": "markdown",
   "metadata": {},
   "source": [
    "## 例題2"
   ]
  },
  {
   "cell_type": "markdown",
   "metadata": {},
   "source": [
    "（株）W カップでは 2 種類の製品１と２を製造している。製品 1 は 1 個あたり 20 万円、\n",
    "２は 30 万円の利益がある。いずれの製品も３つの工程 A、B、C を経なければならない。\n",
    "１は工程 A に 1 個あたり 1 時間、B、C に各 3 時間を要し、２はそれぞれ 2 時間、4 時間、\n",
    "１時間を要する。1 ヶ月あたりの工程 A、B、C の延べ稼働時間はそれぞれ 800 時間、1,800\n",
    "時間、1,500 時間である。このとき、一ヶ月の利益を最大にする生産計画をたてよ。  \n",
    "\n",
    "\n",
    "- 決定変数：製品 1、2 の生産量をそれぞれ x 個、y 個 とおく。  \n",
    "- 制約条件：\n",
    "\n",
    "$$\n",
    " x + 2y ≦ 800\\\\\n",
    " 3x + 4y ≦ 1800\\\\\n",
    " 3x + y ≦ 1500\\\\\n",
    " x, y ≧ 0\n",
    "$$\n",
    " \n",
    "- 目的関数：\n",
    "20x + 30y ⇒ Max "
   ]
  },
  {
   "cell_type": "code",
   "execution_count": 8,
   "metadata": {},
   "outputs": [
    {
     "name": "stdout",
     "output_type": "stream",
     "text": [
      "Optimal\n",
      "Result\n",
      "製品Ⅰ 200.0個\n",
      "製品Ⅱ 300.0個\n",
      "最大利益 13000.0万円\n"
     ]
    }
   ],
   "source": [
    "#線形計画の定義\n",
    "problem = pulp.LpProblem('test2', pulp.LpMaximize)\n",
    "\n",
    "#変数の定義\n",
    "prd1 = pulp.LpVariable('prd1', 0, 10000, 'Integer') \n",
    "prd2 = pulp.LpVariable('prd2', 0, 10000, 'Integer') \n",
    "\n",
    "#目的関数の定義\n",
    "problem += 20*prd1 + 30*prd2\n",
    "\n",
    "#制約条件の定義\n",
    "problem += prd1 + 2*prd2 <= 800\n",
    "problem += 3*prd1 + 4*prd2 <= 1800\n",
    "problem += 3*prd1 + prd2 <= 1500\n",
    "\n",
    "#解く\n",
    "status = problem.solve()\n",
    "print(pulp.LpStatus[status])\n",
    "\n",
    "#結果表示\n",
    "print(\"Result\")\n",
    "print(\"製品Ⅰ {}個\".format(prd1.value()))\n",
    "print(\"製品Ⅱ {}個\".format(prd2.value()))\n",
    "print(\"最大利益 {}万円\".format(pulp.value(problem.objective)))"
   ]
  },
  {
   "cell_type": "code",
   "execution_count": null,
   "metadata": {},
   "outputs": [],
   "source": []
  },
  {
   "cell_type": "markdown",
   "metadata": {},
   "source": [
    "# 整数計画問題の例：ナップサック問題"
   ]
  },
  {
   "cell_type": "markdown",
   "metadata": {},
   "source": [
    "ナップザック問題とは、ナップザックの中にはいる限度内で荷物の価値を最大になる組み合わせを求める問題。  \n",
    "問題は「以下の表の荷物が存在するとき、重さが10を超えず価値が最大となる組み合わせを求める」というものです。"
   ]
  },
  {
   "cell_type": "markdown",
   "metadata": {},
   "source": [
    "|重さ|価値|\n",
    "|:-|:-|\n",
    "|2|3|\n",
    "|1|2|\n",
    "|3|6|\n",
    "|2|1|\n",
    "|1|3|\n",
    "|4|8|"
   ]
  },
  {
   "cell_type": "code",
   "execution_count": 9,
   "metadata": {},
   "outputs": [
    {
     "name": "stdout",
     "output_type": "stream",
     "text": [
      "最大価値:20.0 / 組み合わせ:[0, 2, 4, 5]\n"
     ]
    }
   ],
   "source": [
    "# 重さ\n",
    "w = [2, 1, 3, 2, 1, 4]\n",
    "\n",
    "# 価値\n",
    "v = [3, 2, 6, 1, 3, 8]\n",
    "\n",
    "# 限度：10kg\n",
    "W = 10\n",
    "\n",
    "r = range(len(w))\n",
    "\n",
    "# 数理モデル\n",
    "m = pulp.LpProblem(sense=pulp.LpMaximize)\n",
    "\n",
    "# 変数の作成\n",
    "x = [pulp.LpVariable('x%d'%i, cat=pulp.LpBinary) for i in r]\n",
    "\n",
    "# 目的関数(変数xと価値情報の組み合わせ)\n",
    "m += pulp.lpDot(v, x)\n",
    "\n",
    "# 制約の設定\n",
    "m += pulp.lpDot(w, x) <= W\n",
    "\n",
    "# 解\n",
    "m.solve()\n",
    "print('最大価値:{} / 組み合わせ:{}'.format(pulp.value(m.objective), [i for i in r if pulp.value(x[i]) > 0.5]))"
   ]
  },
  {
   "cell_type": "markdown",
   "metadata": {},
   "source": [
    "このソースコードを実行すると、以下の実行結果が出力されます。最適な組み合わせのリスト番号とその最大価値を出力しています。"
   ]
  },
  {
   "cell_type": "code",
   "execution_count": null,
   "metadata": {},
   "outputs": [],
   "source": []
  },
  {
   "cell_type": "markdown",
   "metadata": {},
   "source": [
    "# 自作問題"
   ]
  },
  {
   "cell_type": "markdown",
   "metadata": {},
   "source": [
    "商品：X, Y, Z, Wを競売にかけ、バイヤー：A, B, C, D,..., V それぞれの購入予定金額(単位：万円)が分かっているものとする。但し、商品には在庫があり、[X, Y, Z, W] = [6, 3, 4, 5]個のストックのみである。競売ルールとして、バイヤー1人につき、最大1つの商品のみを購入でき、在庫が切れた時点で購入できないものとする。   \n",
    "在庫すべてを売却し、売却金額が最大になるような組み合わせを考えることとする。"
   ]
  },
  {
   "cell_type": "code",
   "execution_count": 10,
   "metadata": {},
   "outputs": [],
   "source": [
    "pdf = pd.read_csv(\"expected_purchase_price.csv\")"
   ]
  },
  {
   "cell_type": "code",
   "execution_count": 11,
   "metadata": {},
   "outputs": [
    {
     "data": {
      "text/html": [
       "<div>\n",
       "<style scoped>\n",
       "    .dataframe tbody tr th:only-of-type {\n",
       "        vertical-align: middle;\n",
       "    }\n",
       "\n",
       "    .dataframe tbody tr th {\n",
       "        vertical-align: top;\n",
       "    }\n",
       "\n",
       "    .dataframe thead th {\n",
       "        text-align: right;\n",
       "    }\n",
       "</style>\n",
       "<table border=\"1\" class=\"dataframe\">\n",
       "  <thead>\n",
       "    <tr style=\"text-align: right;\">\n",
       "      <th></th>\n",
       "      <th>customer</th>\n",
       "      <th>X</th>\n",
       "      <th>Y</th>\n",
       "      <th>Z</th>\n",
       "      <th>W</th>\n",
       "    </tr>\n",
       "  </thead>\n",
       "  <tbody>\n",
       "    <tr>\n",
       "      <th>0</th>\n",
       "      <td>A</td>\n",
       "      <td>49</td>\n",
       "      <td>83</td>\n",
       "      <td>18</td>\n",
       "      <td>12</td>\n",
       "    </tr>\n",
       "    <tr>\n",
       "      <th>1</th>\n",
       "      <td>B</td>\n",
       "      <td>99</td>\n",
       "      <td>15</td>\n",
       "      <td>71</td>\n",
       "      <td>10</td>\n",
       "    </tr>\n",
       "    <tr>\n",
       "      <th>2</th>\n",
       "      <td>C</td>\n",
       "      <td>61</td>\n",
       "      <td>15</td>\n",
       "      <td>77</td>\n",
       "      <td>29</td>\n",
       "    </tr>\n",
       "    <tr>\n",
       "      <th>3</th>\n",
       "      <td>D</td>\n",
       "      <td>81</td>\n",
       "      <td>64</td>\n",
       "      <td>94</td>\n",
       "      <td>75</td>\n",
       "    </tr>\n",
       "    <tr>\n",
       "      <th>4</th>\n",
       "      <td>E</td>\n",
       "      <td>97</td>\n",
       "      <td>7</td>\n",
       "      <td>42</td>\n",
       "      <td>87</td>\n",
       "    </tr>\n",
       "    <tr>\n",
       "      <th>5</th>\n",
       "      <td>F</td>\n",
       "      <td>29</td>\n",
       "      <td>80</td>\n",
       "      <td>6</td>\n",
       "      <td>34</td>\n",
       "    </tr>\n",
       "    <tr>\n",
       "      <th>6</th>\n",
       "      <td>G</td>\n",
       "      <td>75</td>\n",
       "      <td>75</td>\n",
       "      <td>57</td>\n",
       "      <td>27</td>\n",
       "    </tr>\n",
       "    <tr>\n",
       "      <th>7</th>\n",
       "      <td>H</td>\n",
       "      <td>50</td>\n",
       "      <td>52</td>\n",
       "      <td>24</td>\n",
       "      <td>21</td>\n",
       "    </tr>\n",
       "    <tr>\n",
       "      <th>8</th>\n",
       "      <td>I</td>\n",
       "      <td>32</td>\n",
       "      <td>15</td>\n",
       "      <td>42</td>\n",
       "      <td>99</td>\n",
       "    </tr>\n",
       "    <tr>\n",
       "      <th>9</th>\n",
       "      <td>J</td>\n",
       "      <td>80</td>\n",
       "      <td>53</td>\n",
       "      <td>6</td>\n",
       "      <td>2</td>\n",
       "    </tr>\n",
       "    <tr>\n",
       "      <th>10</th>\n",
       "      <td>K</td>\n",
       "      <td>52</td>\n",
       "      <td>32</td>\n",
       "      <td>54</td>\n",
       "      <td>78</td>\n",
       "    </tr>\n",
       "    <tr>\n",
       "      <th>11</th>\n",
       "      <td>L</td>\n",
       "      <td>45</td>\n",
       "      <td>27</td>\n",
       "      <td>4</td>\n",
       "      <td>41</td>\n",
       "    </tr>\n",
       "    <tr>\n",
       "      <th>12</th>\n",
       "      <td>M</td>\n",
       "      <td>28</td>\n",
       "      <td>57</td>\n",
       "      <td>76</td>\n",
       "      <td>27</td>\n",
       "    </tr>\n",
       "    <tr>\n",
       "      <th>13</th>\n",
       "      <td>N</td>\n",
       "      <td>59</td>\n",
       "      <td>28</td>\n",
       "      <td>41</td>\n",
       "      <td>36</td>\n",
       "    </tr>\n",
       "    <tr>\n",
       "      <th>14</th>\n",
       "      <td>O</td>\n",
       "      <td>68</td>\n",
       "      <td>3</td>\n",
       "      <td>0</td>\n",
       "      <td>61</td>\n",
       "    </tr>\n",
       "    <tr>\n",
       "      <th>15</th>\n",
       "      <td>P</td>\n",
       "      <td>9</td>\n",
       "      <td>87</td>\n",
       "      <td>1</td>\n",
       "      <td>52</td>\n",
       "    </tr>\n",
       "    <tr>\n",
       "      <th>16</th>\n",
       "      <td>Q</td>\n",
       "      <td>70</td>\n",
       "      <td>96</td>\n",
       "      <td>57</td>\n",
       "      <td>2</td>\n",
       "    </tr>\n",
       "    <tr>\n",
       "      <th>17</th>\n",
       "      <td>R</td>\n",
       "      <td>23</td>\n",
       "      <td>46</td>\n",
       "      <td>49</td>\n",
       "      <td>38</td>\n",
       "    </tr>\n",
       "    <tr>\n",
       "      <th>18</th>\n",
       "      <td>S</td>\n",
       "      <td>10</td>\n",
       "      <td>86</td>\n",
       "      <td>28</td>\n",
       "      <td>48</td>\n",
       "    </tr>\n",
       "    <tr>\n",
       "      <th>19</th>\n",
       "      <td>T</td>\n",
       "      <td>99</td>\n",
       "      <td>39</td>\n",
       "      <td>95</td>\n",
       "      <td>94</td>\n",
       "    </tr>\n",
       "    <tr>\n",
       "      <th>20</th>\n",
       "      <td>U</td>\n",
       "      <td>90</td>\n",
       "      <td>59</td>\n",
       "      <td>39</td>\n",
       "      <td>52</td>\n",
       "    </tr>\n",
       "    <tr>\n",
       "      <th>21</th>\n",
       "      <td>V</td>\n",
       "      <td>91</td>\n",
       "      <td>49</td>\n",
       "      <td>93</td>\n",
       "      <td>13</td>\n",
       "    </tr>\n",
       "  </tbody>\n",
       "</table>\n",
       "</div>"
      ],
      "text/plain": [
       "   customer   X   Y   Z   W\n",
       "0         A  49  83  18  12\n",
       "1         B  99  15  71  10\n",
       "2         C  61  15  77  29\n",
       "3         D  81  64  94  75\n",
       "4         E  97   7  42  87\n",
       "5         F  29  80   6  34\n",
       "6         G  75  75  57  27\n",
       "7         H  50  52  24  21\n",
       "8         I  32  15  42  99\n",
       "9         J  80  53   6   2\n",
       "10        K  52  32  54  78\n",
       "11        L  45  27   4  41\n",
       "12        M  28  57  76  27\n",
       "13        N  59  28  41  36\n",
       "14        O  68   3   0  61\n",
       "15        P   9  87   1  52\n",
       "16        Q  70  96  57   2\n",
       "17        R  23  46  49  38\n",
       "18        S  10  86  28  48\n",
       "19        T  99  39  95  94\n",
       "20        U  90  59  39  52\n",
       "21        V  91  49  93  13"
      ]
     },
     "execution_count": 11,
     "metadata": {},
     "output_type": "execute_result"
    }
   ],
   "source": [
    "pdf"
   ]
  },
  {
   "cell_type": "code",
   "execution_count": 12,
   "metadata": {},
   "outputs": [],
   "source": [
    "from pulp import LpProblem, LpVariable, LpMaximize, LpBinary\n",
    "\n",
    "def optimization(data_opt, N, distribution):\n",
    "\n",
    "    row_s = data_opt.shape[0]\n",
    "    column_s = data_opt.shape[1]\n",
    "    pr_s = list(product(range(row_s), range(column_s)))\n",
    "\n",
    "    # 目的変数最大化\n",
    "    m = pulp.LpProblem(sense=LpMaximize)\n",
    "    # 変数(0, 1)\n",
    "    v = {(i, j) : LpVariable('v%d_%d' % (i, j), lowBound=0, cat=LpBinary) for i, j in pr_s}\n",
    "\n",
    "    # 目的関数\n",
    "    m += pulp.lpSum(data_opt[i][j] * v[i, j] for i, j in pr_s)\n",
    "    # 制約条件1 - 全体のフラグ数はレコード数以下に\n",
    "    m += pulp.lpSum(v[i, j] for i, j in pr_s) <= N\n",
    "    # 制約条件2 - 行毎の制約を1にする\n",
    "    for i in range(row_s):\n",
    "        m += pulp.lpSum(v[i, j] for j in range(column_s)) <= 1\n",
    "\n",
    "    # 制約条件3 - 列の制約を指定\n",
    "    for j in range(column_s):\n",
    "        m += pulp.lpSum(v[i, j] for i in range(row_s)) == distribution[j]\n",
    "\n",
    "    m.solve()\n",
    "\n",
    "    return m, v, pr_s"
   ]
  },
  {
   "cell_type": "code",
   "execution_count": 13,
   "metadata": {},
   "outputs": [],
   "source": [
    "arr_purchase_price = np.array(pdf)"
   ]
  },
  {
   "cell_type": "code",
   "execution_count": 14,
   "metadata": {},
   "outputs": [
    {
     "data": {
      "text/plain": [
       "array([['A', 49, 83, 18, 12],\n",
       "       ['B', 99, 15, 71, 10],\n",
       "       ['C', 61, 15, 77, 29],\n",
       "       ['D', 81, 64, 94, 75],\n",
       "       ['E', 97, 7, 42, 87],\n",
       "       ['F', 29, 80, 6, 34],\n",
       "       ['G', 75, 75, 57, 27],\n",
       "       ['H', 50, 52, 24, 21],\n",
       "       ['I', 32, 15, 42, 99],\n",
       "       ['J', 80, 53, 6, 2],\n",
       "       ['K', 52, 32, 54, 78],\n",
       "       ['L', 45, 27, 4, 41],\n",
       "       ['M', 28, 57, 76, 27],\n",
       "       ['N', 59, 28, 41, 36],\n",
       "       ['O', 68, 3, 0, 61],\n",
       "       ['P', 9, 87, 1, 52],\n",
       "       ['Q', 70, 96, 57, 2],\n",
       "       ['R', 23, 46, 49, 38],\n",
       "       ['S', 10, 86, 28, 48],\n",
       "       ['T', 99, 39, 95, 94],\n",
       "       ['U', 90, 59, 39, 52],\n",
       "       ['V', 91, 49, 93, 13]], dtype=object)"
      ]
     },
     "execution_count": 14,
     "metadata": {},
     "output_type": "execute_result"
    }
   ],
   "source": [
    "arr_purchase_price"
   ]
  },
  {
   "cell_type": "code",
   "execution_count": 15,
   "metadata": {},
   "outputs": [],
   "source": [
    "arr_purchase_price_ind = np.delete(arr_purchase_price, 0, 1)"
   ]
  },
  {
   "cell_type": "code",
   "execution_count": 18,
   "metadata": {},
   "outputs": [
    {
     "data": {
      "text/plain": [
       "array([[49, 83, 18, 12],\n",
       "       [99, 15, 71, 10],\n",
       "       [61, 15, 77, 29],\n",
       "       [81, 64, 94, 75],\n",
       "       [97, 7, 42, 87],\n",
       "       [29, 80, 6, 34],\n",
       "       [75, 75, 57, 27],\n",
       "       [50, 52, 24, 21],\n",
       "       [32, 15, 42, 99],\n",
       "       [80, 53, 6, 2],\n",
       "       [52, 32, 54, 78],\n",
       "       [45, 27, 4, 41],\n",
       "       [28, 57, 76, 27],\n",
       "       [59, 28, 41, 36],\n",
       "       [68, 3, 0, 61],\n",
       "       [9, 87, 1, 52],\n",
       "       [70, 96, 57, 2],\n",
       "       [23, 46, 49, 38],\n",
       "       [10, 86, 28, 48],\n",
       "       [99, 39, 95, 94],\n",
       "       [90, 59, 39, 52],\n",
       "       [91, 49, 93, 13]], dtype=object)"
      ]
     },
     "execution_count": 18,
     "metadata": {},
     "output_type": "execute_result"
    }
   ],
   "source": [
    "arr_purchase_price_ind"
   ]
  },
  {
   "cell_type": "code",
   "execution_count": 19,
   "metadata": {},
   "outputs": [],
   "source": [
    "# レコード数\n",
    "contact_num_s_ind = arr_purchase_price_ind.shape[0]\n",
    "\n",
    "# 在庫数\n",
    "dist_num_ind =  [6, 3, 4, 5]\n",
    "\n",
    "m, v, pr_s = optimization(arr_purchase_price_ind, contact_num_s_ind, dist_num_ind)"
   ]
  },
  {
   "cell_type": "code",
   "execution_count": 20,
   "metadata": {},
   "outputs": [
    {
     "name": "stdout",
     "output_type": "stream",
     "text": [
      "最大利益 1489.0万円\n"
     ]
    }
   ],
   "source": [
    "# 解\n",
    "print(\"最大利益 {}万円\".format(pulp.value(m.objective))) # 最適化した購買確率の合計値"
   ]
  },
  {
   "cell_type": "code",
   "execution_count": 21,
   "metadata": {},
   "outputs": [],
   "source": [
    "# pandas DataFrameに変換\n",
    "result_list = {k: pulp.value(x) for k, x in v.items()} \n",
    "list_temp = np.array([result_list[i, j] for i, j in pr_s])\n",
    "data_result_tmp = np.reshape(list_temp, (arr_purchase_price_ind.shape[0], arr_purchase_price_ind.shape[1]))\n",
    "\n",
    "data_result = np.hstack((arr_purchase_price[:, 0:1], data_result_tmp))\n",
    "pd_result = pd.DataFrame(data_result,\n",
    "                        columns = pdf.columns)"
   ]
  },
  {
   "cell_type": "code",
   "execution_count": 22,
   "metadata": {},
   "outputs": [
    {
     "data": {
      "text/html": [
       "<div>\n",
       "<style scoped>\n",
       "    .dataframe tbody tr th:only-of-type {\n",
       "        vertical-align: middle;\n",
       "    }\n",
       "\n",
       "    .dataframe tbody tr th {\n",
       "        vertical-align: top;\n",
       "    }\n",
       "\n",
       "    .dataframe thead th {\n",
       "        text-align: right;\n",
       "    }\n",
       "</style>\n",
       "<table border=\"1\" class=\"dataframe\">\n",
       "  <thead>\n",
       "    <tr style=\"text-align: right;\">\n",
       "      <th></th>\n",
       "      <th>customer</th>\n",
       "      <th>X</th>\n",
       "      <th>Y</th>\n",
       "      <th>Z</th>\n",
       "      <th>W</th>\n",
       "    </tr>\n",
       "  </thead>\n",
       "  <tbody>\n",
       "    <tr>\n",
       "      <th>0</th>\n",
       "      <td>A</td>\n",
       "      <td>0</td>\n",
       "      <td>1</td>\n",
       "      <td>0</td>\n",
       "      <td>0</td>\n",
       "    </tr>\n",
       "    <tr>\n",
       "      <th>1</th>\n",
       "      <td>B</td>\n",
       "      <td>1</td>\n",
       "      <td>0</td>\n",
       "      <td>0</td>\n",
       "      <td>0</td>\n",
       "    </tr>\n",
       "    <tr>\n",
       "      <th>2</th>\n",
       "      <td>C</td>\n",
       "      <td>0</td>\n",
       "      <td>0</td>\n",
       "      <td>1</td>\n",
       "      <td>0</td>\n",
       "    </tr>\n",
       "    <tr>\n",
       "      <th>3</th>\n",
       "      <td>D</td>\n",
       "      <td>0</td>\n",
       "      <td>0</td>\n",
       "      <td>1</td>\n",
       "      <td>0</td>\n",
       "    </tr>\n",
       "    <tr>\n",
       "      <th>4</th>\n",
       "      <td>E</td>\n",
       "      <td>1</td>\n",
       "      <td>0</td>\n",
       "      <td>0</td>\n",
       "      <td>0</td>\n",
       "    </tr>\n",
       "    <tr>\n",
       "      <th>5</th>\n",
       "      <td>F</td>\n",
       "      <td>0</td>\n",
       "      <td>0</td>\n",
       "      <td>0</td>\n",
       "      <td>0</td>\n",
       "    </tr>\n",
       "    <tr>\n",
       "      <th>6</th>\n",
       "      <td>G</td>\n",
       "      <td>1</td>\n",
       "      <td>0</td>\n",
       "      <td>0</td>\n",
       "      <td>0</td>\n",
       "    </tr>\n",
       "    <tr>\n",
       "      <th>7</th>\n",
       "      <td>H</td>\n",
       "      <td>0</td>\n",
       "      <td>0</td>\n",
       "      <td>0</td>\n",
       "      <td>0</td>\n",
       "    </tr>\n",
       "    <tr>\n",
       "      <th>8</th>\n",
       "      <td>I</td>\n",
       "      <td>0</td>\n",
       "      <td>0</td>\n",
       "      <td>0</td>\n",
       "      <td>1</td>\n",
       "    </tr>\n",
       "    <tr>\n",
       "      <th>9</th>\n",
       "      <td>J</td>\n",
       "      <td>1</td>\n",
       "      <td>0</td>\n",
       "      <td>0</td>\n",
       "      <td>0</td>\n",
       "    </tr>\n",
       "    <tr>\n",
       "      <th>10</th>\n",
       "      <td>K</td>\n",
       "      <td>0</td>\n",
       "      <td>0</td>\n",
       "      <td>0</td>\n",
       "      <td>1</td>\n",
       "    </tr>\n",
       "    <tr>\n",
       "      <th>11</th>\n",
       "      <td>L</td>\n",
       "      <td>0</td>\n",
       "      <td>0</td>\n",
       "      <td>0</td>\n",
       "      <td>0</td>\n",
       "    </tr>\n",
       "    <tr>\n",
       "      <th>12</th>\n",
       "      <td>M</td>\n",
       "      <td>0</td>\n",
       "      <td>0</td>\n",
       "      <td>1</td>\n",
       "      <td>0</td>\n",
       "    </tr>\n",
       "    <tr>\n",
       "      <th>13</th>\n",
       "      <td>N</td>\n",
       "      <td>1</td>\n",
       "      <td>0</td>\n",
       "      <td>0</td>\n",
       "      <td>0</td>\n",
       "    </tr>\n",
       "    <tr>\n",
       "      <th>14</th>\n",
       "      <td>O</td>\n",
       "      <td>0</td>\n",
       "      <td>0</td>\n",
       "      <td>0</td>\n",
       "      <td>1</td>\n",
       "    </tr>\n",
       "    <tr>\n",
       "      <th>15</th>\n",
       "      <td>P</td>\n",
       "      <td>0</td>\n",
       "      <td>0</td>\n",
       "      <td>0</td>\n",
       "      <td>1</td>\n",
       "    </tr>\n",
       "    <tr>\n",
       "      <th>16</th>\n",
       "      <td>Q</td>\n",
       "      <td>0</td>\n",
       "      <td>1</td>\n",
       "      <td>0</td>\n",
       "      <td>0</td>\n",
       "    </tr>\n",
       "    <tr>\n",
       "      <th>17</th>\n",
       "      <td>R</td>\n",
       "      <td>0</td>\n",
       "      <td>0</td>\n",
       "      <td>0</td>\n",
       "      <td>0</td>\n",
       "    </tr>\n",
       "    <tr>\n",
       "      <th>18</th>\n",
       "      <td>S</td>\n",
       "      <td>0</td>\n",
       "      <td>1</td>\n",
       "      <td>0</td>\n",
       "      <td>0</td>\n",
       "    </tr>\n",
       "    <tr>\n",
       "      <th>19</th>\n",
       "      <td>T</td>\n",
       "      <td>0</td>\n",
       "      <td>0</td>\n",
       "      <td>0</td>\n",
       "      <td>1</td>\n",
       "    </tr>\n",
       "    <tr>\n",
       "      <th>20</th>\n",
       "      <td>U</td>\n",
       "      <td>1</td>\n",
       "      <td>0</td>\n",
       "      <td>0</td>\n",
       "      <td>0</td>\n",
       "    </tr>\n",
       "    <tr>\n",
       "      <th>21</th>\n",
       "      <td>V</td>\n",
       "      <td>0</td>\n",
       "      <td>0</td>\n",
       "      <td>1</td>\n",
       "      <td>0</td>\n",
       "    </tr>\n",
       "  </tbody>\n",
       "</table>\n",
       "</div>"
      ],
      "text/plain": [
       "   customer  X  Y  Z  W\n",
       "0         A  0  1  0  0\n",
       "1         B  1  0  0  0\n",
       "2         C  0  0  1  0\n",
       "3         D  0  0  1  0\n",
       "4         E  1  0  0  0\n",
       "5         F  0  0  0  0\n",
       "6         G  1  0  0  0\n",
       "7         H  0  0  0  0\n",
       "8         I  0  0  0  1\n",
       "9         J  1  0  0  0\n",
       "10        K  0  0  0  1\n",
       "11        L  0  0  0  0\n",
       "12        M  0  0  1  0\n",
       "13        N  1  0  0  0\n",
       "14        O  0  0  0  1\n",
       "15        P  0  0  0  1\n",
       "16        Q  0  1  0  0\n",
       "17        R  0  0  0  0\n",
       "18        S  0  1  0  0\n",
       "19        T  0  0  0  1\n",
       "20        U  1  0  0  0\n",
       "21        V  0  0  1  0"
      ]
     },
     "execution_count": 22,
     "metadata": {},
     "output_type": "execute_result"
    }
   ],
   "source": [
    "# 購入：1 未購入：0\n",
    "\n",
    "pd_result"
   ]
  },
  {
   "cell_type": "code",
   "execution_count": null,
   "metadata": {},
   "outputs": [],
   "source": []
  },
  {
   "cell_type": "markdown",
   "metadata": {},
   "source": [
    "## Appendix(領域を塗る)"
   ]
  },
  {
   "cell_type": "code",
   "execution_count": 23,
   "metadata": {},
   "outputs": [
    {
     "data": {
      "image/png": "[encoded data removed]",
      "text/plain": [
       "<Figure size 432x288 with 1 Axes>"
      ]
     },
     "metadata": {
      "needs_background": "light"
     },
     "output_type": "display_data"
    }
   ],
   "source": [
    "x = np.linspace(0, 5, 100)\n",
    "\n",
    "y1 = 5 - 0.5*x\n",
    "y2 =  8 - 2*x\n",
    "y3 = np.zeros_like(x)\n",
    "\n",
    "y4 = np.minimum(y1, y2)\n",
    "\n",
    "plt.figure()\n",
    "plt.plot(x, y1, label=\"x1+2x2 <= 10\")\n",
    "plt.plot(x, y2, label=\"2x1+x2<=8\")\n",
    "plt.fill_between(x, y3, y4, where=y4>y3, facecolor='yellow', alpha=0.3)\n",
    "plt.ylim(0, 8.5)\n",
    "plt.xlim(0, 4.5)\n",
    "plt.legend(loc=0)\n",
    "\n",
    "plt.show()"
   ]
  },
  {
   "cell_type": "code",
   "execution_count": null,
   "metadata": {},
   "outputs": [],
   "source": []
  },
  {
   "cell_type": "markdown",
   "metadata": {},
   "source": [
    "# 参照"
   ]
  },
  {
   "cell_type": "markdown",
   "metadata": {},
   "source": [
    "- https://qiita.com/Dason08/items/e1bafb9ddc766d1c8fd0\n",
    "- https://techacademy.jp/magazine/32426\n",
    "- https://docs.pyq.jp/python/math_opt/pulp.html\n",
    "- https://www.fit.ac.jp/~song/lecture/06/LP0606.pdf\n",
    "- http://www.nct9.ne.jp/m_hiroi/light/pulp02.html\n",
    "- http://www.dais.is.tohoku.ac.jp/~shioura/teaching/mp13/mp13-01.pdf\n",
    "- http://www.nct9.ne.jp/m_hiroi/light/pulp01.html\n"
   ]
  },
  {
   "cell_type": "code",
   "execution_count": null,
   "metadata": {},
   "outputs": [],
   "source": []
  }
 ],
 "metadata": {
  "kernelspec": {
   "display_name": "Python 3",
   "language": "python",
   "name": "python3"
  },
  "language_info": {
   "codemirror_mode": {
    "name": "ipython",
    "version": 3
   },
   "file_extension": ".py",
   "mimetype": "text/x-python",
   "name": "python",
   "nbconvert_exporter": "python",
   "pygments_lexer": "ipython3",
   "version": "3.6.7"
  }
 },
 "nbformat": 4,
 "nbformat_minor": 2
}
